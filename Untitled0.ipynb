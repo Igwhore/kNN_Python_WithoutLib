{
  "nbformat": 4,
  "nbformat_minor": 0,
  "metadata": {
    "colab": {
      "provenance": [],
      "include_colab_link": true
    },
    "kernelspec": {
      "name": "python3",
      "display_name": "Python 3"
    },
    "language_info": {
      "name": "python"
    }
  },
  "cells": [
    {
      "cell_type": "markdown",
      "metadata": {
        "id": "view-in-github",
        "colab_type": "text"
      },
      "source": [
        "<a href=\"https://colab.research.google.com/github/Igwhore/kNN_Python_WithoutLib/blob/main/Untitled0.ipynb\" target=\"_parent\"><img src=\"https://colab.research.google.com/assets/colab-badge.svg\" alt=\"Open In Colab\"/></a>"
      ]
    },
    {
      "cell_type": "code",
      "execution_count": null,
      "metadata": {
        "colab": {
          "base_uri": "https://localhost:8080/",
          "height": 1000
        },
        "id": "dihqdJzpw2h_",
        "outputId": "aadde37b-420a-46ae-d0a9-11468c2cb28a"
      },
      "outputs": [
        {
          "output_type": "stream",
          "name": "stdout",
          "text": [
            "K = 3 | accuracy = 1.0\n",
            "K = 4 | accuracy = 0.8\n",
            "K = 5 | accuracy = 0.8\n",
            "K = 6 | accuracy = 0.8\n",
            "K = 7 | accuracy = 0.8\n",
            "K = 8 | accuracy = 0.8\n",
            "K = 9 | accuracy = 0.8\n",
            "K = 10 | accuracy = 0.8\n",
            "K = 11 | accuracy = 0.8\n",
            "K = 12 | accuracy = 0.8\n",
            "K = 13 | accuracy = 0.8\n",
            "K = 14 | accuracy = 0.8\n",
            "K = 15 | accuracy = 0.8\n",
            "K = 16 | accuracy = 0.8\n",
            "K = 17 | accuracy = 0.8\n",
            "K = 18 | accuracy = 0.8\n",
            "K = 19 | accuracy = 0.8\n",
            "K = 20 | accuracy = 0.8\n",
            "K = 21 | accuracy = 0.8\n",
            "K = 22 | accuracy = 0.8\n",
            "K = 23 | accuracy = 0.8\n",
            "K = 24 | accuracy = 0.8\n",
            "K = 25 | accuracy = 0.8\n",
            "K = 26 | accuracy = 0.8\n",
            "K = 27 | accuracy = 0.8\n",
            "K = 28 | accuracy = 0.8\n",
            "K = 29 | accuracy = 0.8\n",
            "K = 30 | accuracy = 0.8\n",
            "K = 31 | accuracy = 0.8\n",
            "K = 32 | accuracy = 0.8\n",
            "K = 33 | accuracy = 0.8\n",
            "K = 34 | accuracy = 0.8\n",
            "Оптимальное количество соседей: 3\n",
            "prediction = Чай| params = ['Чай', 0.0, 1.0, 0.0, 1.0, 1.0, 0.0, 1.0, 1.0, 0.33]\n",
            "prediction = Чай| params = ['Чай', 1.0, 1.0, 0.0, 1.0, 1.0, 0.0, 1.0, 0.38, 0.0]\n",
            "prediction = Кофе| params = ['Кофе', 1.0, 0.0, 1.0, 1.0, 1.0, 0.0, 1.0, 0.75, 1.0]\n",
            "prediction = Чай| params = ['Чай', 1.0, 0.0, 0.0, 1.0, 1.0, 1.0, 0.67, 1.0, 0.0]\n",
            "prediction = Чай| params = ['Чай', 1.0, 1.0, 1.0, 1.0, 1.0, 1.0, 0.67, 0.38, 0.0]\n"
          ]
        },
        {
          "output_type": "display_data",
          "data": {
            "text/plain": [
              "<Figure size 640x480 with 1 Axes>"
            ],
            "image/png": "[encoded data removed]"
          },
          "metadata": {}
        },
        {
          "output_type": "stream",
          "name": "stdout",
          "text": [
            "Кофе\n"
          ]
        },
        {
          "output_type": "display_data",
          "data": {
            "text/plain": [
              "<Figure size 640x480 with 0 Axes>"
            ]
          },
          "metadata": {}
        }
      ],
      "source": [
        "import numpy as np\n",
        "import pandas as pd\n",
        "import math\n",
        "import random\n",
        "import matplotlib.pyplot as plt\n",
        "\n",
        "def working_with_data(p):\n",
        "  df = pd.read_csv(p)\n",
        "  discrete_values = [0,1]\n",
        "  df = df.loc[:, df.columns!='Отметка времени']\n",
        "  df['Занимаетесь спортом?'] = df['Занимаетесь спортом?'].fillna('Да')\n",
        "  df['Административный округ'] = df['Административный округ'].fillna('Подмосковье')\n",
        "  for column in df.drop('Кофе или чай?', axis=1):\n",
        "    df[column] = df[column].astype('category')\n",
        "    df[column] = df[column].cat.codes\n",
        "    df[column] = (df[column] - df[column].min())/(df[column].max() - df[column].min())\n",
        "  return df.round(2)\n",
        "\n",
        "def euclidean_distance_free(d1, d2):\n",
        "  distance = 0\n",
        "  for i in range(1, len(d1)):\n",
        "    distance += (d1[i] - d2[i]) ** 2\n",
        "  return distance\n",
        "\n",
        "def euclidean_distance(d1, d2):\n",
        "  return math.sqrt(euclidean_distance_free(d1, d2))\n",
        "\n",
        "def manheton_distance(d1, d2):\n",
        "  distance = 0\n",
        "  for i in range(1, len(d1)):\n",
        "    distance += abs((d1[i] - d2[i]))\n",
        "  return distance\n",
        "\n",
        "def get_neighbors(training_data, test_data, k=2):\n",
        "  distances = [(training_data[i], euclidean_distance(training_data[i], test_data))\n",
        "                  for i in range (len(training_data))]\n",
        "  distances.sort(key=lambda elem: elem[1])\n",
        "  neighbors = [distances[i][0] for i in range (k)]\n",
        "  return neighbors\n",
        "\n",
        "def prediction_last_ver(neighbors):\n",
        "  count = [0,0]\n",
        "  for item in neighbors:\n",
        "    if item[0] == 'Чай':\n",
        "      count[0] += 1\n",
        "    else:\n",
        "      count[1] += 1\n",
        "  if count[0] > count[1]:\n",
        "    return 'Чай'\n",
        "  else:\n",
        "    return 'Кофе'\n",
        "\n",
        "def prediction(neighbors):\n",
        "  count = {'Чай':0, 'Кофе': 0}\n",
        "  for item in neighbors:\n",
        "    count[item[0]] += 1\n",
        "  return [max(count.items(), key=lambda k_v: k_v[1])][0][0]\n",
        "\n",
        "def accuracy(test, test_prediction):\n",
        "  correct = 0\n",
        "  for i in range (len(test)):\n",
        "    if test[i][0] == test_prediction[i]:\n",
        "      correct += 1\n",
        "  return (correct / len(test))\n",
        "\n",
        "def train_test(date, test_size=0.1):\n",
        "  test_list = []\n",
        "  count = math.ceil(len(date) * test_size)\n",
        "  while count != 0:\n",
        "    count -= 1\n",
        "    i = random.randint(0, len(date) - 1)\n",
        "    test_list.append(date[i])\n",
        "    date.pop(i)\n",
        "  return date, test_list\n",
        "\n",
        "def get_accuracy_list(x_train_list, x_test_list):\n",
        "  ran = range (3, len(x_train_list) - 1)\n",
        "  accuracy_list = {}\n",
        "  for j in ran:\n",
        "    predictions = []\n",
        "    for i in range (len(x_test_list)):\n",
        "      result = get_neighbors(x_train_list, x_test_list[i], k=j)\n",
        "      predictions.append(prediction(result))\n",
        "    accuracy_list[j] = accuracy(x_test_list, predictions)\n",
        "  return accuracy_list\n",
        "\n",
        "def get_optimal_k(date):\n",
        "  return [max(date.items(), key=lambda k_v: k_v[1])][0][0]\n",
        "\n",
        "\n",
        "def create_plot(x_pos, accuracy_list):\n",
        "  plt.plot(x_pos, accuracy_list)\n",
        "  plt.title('Отношение K точности')\n",
        "  plt.xlabel('Количестов соседей')\n",
        "  plt.ylabel('Точность')\n",
        "  plt.grid(True)\n",
        "  plt.show()\n",
        "  plt.clf()\n",
        "\n",
        "\n",
        "%matplotlib inline\n",
        "data = working_with_data('data.csv')\n",
        "\n",
        "x_train_list, x_test_list = train_test(data.values.tolist(), 0.1)\n",
        "result = get_accuracy_list(x_train_list, x_test_list)\n",
        "for key, value in result.items():\n",
        "  print(f'K = {key} | accuracy = {value}')\n",
        "\n",
        "print(f'Оптимальное количество соседей: {get_optimal_k(result)}')\n",
        "\n",
        "for i in range (len(x_test_list)):\n",
        "  res = get_neighbors(x_train_list, x_test_list[i], k=get_optimal_k(result))\n",
        "  print(f'prediction = {prediction(res)}| params = {x_test_list[i]}')\n",
        "\n",
        "data.head(20)\n",
        "create_plot(result.keys(), result.values())\n",
        "\n",
        "#Тестируем для всех\n",
        "testD = ['Кофе', 1.0, 0.0, 1.0, 1.0, 1.0, 0.0, 1.0, 1.0, 0.33]\n",
        "print(f'{prediction(get_neighbors(data.values.tolist(), testD, k=get_optimal_k(result)))}')"
      ]
    }
  ]
}